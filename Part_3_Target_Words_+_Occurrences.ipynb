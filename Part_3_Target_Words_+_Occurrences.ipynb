{
  "nbformat": 4,
  "nbformat_minor": 0,
  "metadata": {
    "colab": {
      "provenance": [],
      "machine_shape": "hm"
    },
    "kernelspec": {
      "name": "python3",
      "display_name": "Python 3"
    },
    "language_info": {
      "name": "python"
    }
  },
  "cells": [
    {
      "cell_type": "code",
      "execution_count": null,
      "metadata": {
        "colab": {
          "base_uri": "https://localhost:8080/"
        },
        "id": "j7QMiNjBX4f4",
        "outputId": "94bf2292-1c9d-4101-d836-7d4043a3252a"
      },
      "outputs": [
        {
          "output_type": "stream",
          "name": "stdout",
          "text": [
            "Mounted at /content/drive\n"
          ]
        }
      ],
      "source": [
        "# mounting the Google Drive\n",
        "from google.colab import drive\n",
        "drive.mount('/content/drive')"
      ]
    },
    {
      "cell_type": "code",
      "source": [
        "!pip install transformers\n",
        "!git clone https://github.com/aub-mind/arabert\n",
        "!pip install torch\n",
        "import transformers\n",
        "from transformers import AutoTokenizer, AutoModel\n",
        "import torch\n",
        "import os\n",
        "import re\n",
        "import nltk\n",
        "import pickle\n",
        "nltk.download('stopwords')\n",
        "from nltk.corpus import stopwords\n",
        "from collections import Counter\n",
        "import string\n",
        "import random\n",
        "from collections import deque\n",
        "from collections import defaultdict\n",
        "from nltk.corpus import stopwords\n",
        "import pandas as pd\n",
        "import numpy as np\n",
        "from sklearn.metrics.pairwise import cosine_similarity"
      ],
      "metadata": {
        "id": "WCYcLjTiYAYj"
      },
      "execution_count": null,
      "outputs": []
    },
    {
      "cell_type": "code",
      "source": [
        "# loading all files into corpus1 text file\n",
        "corpus_directory = \"/content/drive/My Drive/OpenITI/T1_processed_arabertv2_lines\"\n",
        "corpus_files1 = []\n",
        "max_file_size = 4 * 1024 * 1024 * 1024  # 4 GB\n",
        "\n",
        "queue = deque([corpus_directory])\n",
        "\n",
        "total_size = 0\n",
        "while queue:\n",
        "    current_directory = queue.popleft()\n",
        "    for file_name in os.listdir(current_directory):\n",
        "        file_path = os.path.join(current_directory, file_name)\n",
        "        if os.path.isdir(file_path):\n",
        "            queue.append(file_path)\n",
        "        elif not file_name.startswith('.') and not file_name.endswith(('.yml', '.md')):\n",
        "            file_size = os.path.getsize(file_path)\n",
        "            if total_size + file_size <= max_file_size:\n",
        "                corpus_files1.append(file_path)\n",
        "                total_size += file_size\n",
        "\n",
        "random.shuffle(corpus_files1)\n",
        "\n",
        "with open(\"corpus1.txt\", \"w\", encoding='utf-8') as outfile:\n",
        "    for file_path in corpus_files1:\n",
        "        with open(file_path, \"r\", encoding='utf-8') as infile:\n",
        "            for line in infile:\n",
        "                outfile.write(line)\n",
        "            outfile.write(\"\\n\")  # Add a newline character between files"
      ],
      "metadata": {
        "id": "cQE7noHqYCcY"
      },
      "execution_count": null,
      "outputs": []
    },
    {
      "cell_type": "code",
      "source": [
        "# loading all files into corpus2 text file\n",
        "corpus_directory = \"/content/drive/My Drive/OpenITI/T2_processed_arabertv2_lines\"\n",
        "corpus_files2 = []\n",
        "max_file_size = 4 * 1024 * 1024 * 1024  # 4 GB\n",
        "\n",
        "queue = deque([corpus_directory])\n",
        "\n",
        "total_size = 0\n",
        "while queue:\n",
        "    current_directory = queue.popleft()\n",
        "    for file_name in os.listdir(current_directory):\n",
        "        file_path = os.path.join(current_directory, file_name)\n",
        "        if os.path.isdir(file_path):\n",
        "            queue.append(file_path)\n",
        "        elif not file_name.startswith('.') and not file_name.endswith(('.yml', '.md')):\n",
        "            file_size = os.path.getsize(file_path)\n",
        "            if total_size + file_size <= max_file_size:\n",
        "                corpus_files2.append(file_path)\n",
        "                total_size += file_size\n",
        "\n",
        "random.shuffle(corpus_files2)\n",
        "\n",
        "with open(\"corpus2.txt\", \"w\", encoding='utf-8') as outfile:\n",
        "    for file_path in corpus_files2:\n",
        "        with open(file_path, \"r\", encoding='utf-8') as infile:\n",
        "            for line in infile:\n",
        "                outfile.write(line)\n",
        "            outfile.write(\"\\n\")  # Add a newline character between files"
      ],
      "metadata": {
        "id": "jowYYsoYYGKO"
      },
      "execution_count": null,
      "outputs": []
    },
    {
      "cell_type": "code",
      "source": [
        "# creating frequency of vocabulary for each corpus\n",
        "corpus1_file = \"corpus1.txt\"\n",
        "stop_words = set(stopwords.words(\"arabic\"))  # loading stopwords\n",
        "chunk_size = 100000\n",
        "\n",
        "freq_dist1 = defaultdict(int)\n",
        "\n",
        "with open(corpus1_file, \"r\", encoding=\"utf-8\") as file:\n",
        "    while True:\n",
        "        chunk = file.read(chunk_size)\n",
        "        if not chunk:\n",
        "            break\n",
        "        for word in chunk.split():\n",
        "            if word not in stop_words: # Remove stopwords\n",
        "                freq_dist1[word] += 1\n",
        "\n",
        "freq_dist1_file = \"corpus1_freq_dist.pkl\"\n",
        "with open(freq_dist1_file, \"wb\") as file:\n",
        "    pickle.dump(freq_dist1, file)\n",
        "\n",
        "corpus2_file = \"corpus2.txt\"\n",
        "stop_words = set(stopwords.words(\"arabic\"))  # loading stopwords\n",
        "chunk_size = 100000\n",
        "\n",
        "freq_dist2 = defaultdict(int)\n",
        "\n",
        "with open(corpus2_file, \"r\", encoding=\"utf-8\") as file:\n",
        "    while True:\n",
        "        chunk = file.read(chunk_size)\n",
        "        if not chunk:\n",
        "            break\n",
        "        for word in chunk.split():\n",
        "            if word not in stop_words: # Remove stopwords\n",
        "                freq_dist2[word] += 1\n",
        "\n",
        "freq_dist2_file = \"corpus2_freq_dist.pkl\"\n",
        "with open(freq_dist2_file, \"wb\") as file:\n",
        "    pickle.dump(freq_dist2, file)"
      ],
      "metadata": {
        "id": "-W8wmIDeYKVp"
      },
      "execution_count": null,
      "outputs": []
    },
    {
      "cell_type": "code",
      "source": [
        "with open(\"corpus1_freq_dist.pkl\", \"rb\") as file:\n",
        "    freq_dist1 = pickle.load(file)\n",
        "\n",
        "with open(\"corpus2_freq_dist.pkl\", \"rb\") as file:\n",
        "    freq_dist2 = pickle.load(file)\n",
        "\n",
        "# Combine the frequency distributions\n",
        "from collections import defaultdict\n",
        "combined_freq_dist = defaultdict(int)\n",
        "combined_freq_dist.update(freq_dist1)\n",
        "combined_freq_dist.update(freq_dist2)\n",
        "\n",
        "# Extract the keys (words) from the frequency distribution\n",
        "vocabulary = list(combined_freq_dist.keys())\n",
        "\n",
        "# Calculate the number of words in the vocabulary\n",
        "num_words = len(vocabulary)\n",
        "\n",
        "print(\"Number of words in the vocabulary:\", num_words)"
      ],
      "metadata": {
        "colab": {
          "base_uri": "https://localhost:8080/"
        },
        "id": "pkhmZ8-0YW6O",
        "outputId": "1b7bc2a0-a492-4097-fb15-36e6d94a4dfe"
      },
      "execution_count": null,
      "outputs": [
        {
          "output_type": "stream",
          "name": "stdout",
          "text": [
            "Number of words in the vocabulary: 1327911\n"
          ]
        }
      ]
    },
    {
      "cell_type": "code",
      "source": [
        "# Load the frequency distributions from pickle files\n",
        "with open(\"corpus1_freq_dist.pkl\", \"rb\") as file:\n",
        "    freq_dist1 = pickle.load(file)\n",
        "\n",
        "with open(\"corpus2_freq_dist.pkl\", \"rb\") as file:\n",
        "    freq_dist2 = pickle.load(file)\n",
        "\n",
        "# Remove punctuation marks\n",
        "translator = str.maketrans(\"\", \"\", string.punctuation)\n",
        "freq_dist1_cleaned = {word.translate(translator): freq_dist1[word] for word in freq_dist1}\n",
        "freq_dist2_cleaned = {word.translate(translator): freq_dist2[word] for word in freq_dist2}\n",
        "\n",
        "# Get the common words between the two frequency distributions\n",
        "target_words = set(freq_dist1_cleaned).intersection(freq_dist2_cleaned)\n",
        "\n",
        "# Filter out words with frequency greater than 300,000, punctuation marks, numbers, non-Arabic characters, and single/double-character words\n",
        "filtered_target_words = [\n",
        "    word for word in target_words\n",
        "    if (\n",
        "        freq_dist1_cleaned.get(word, 0) + freq_dist2_cleaned.get(word, 0) > 0\n",
        "        and freq_dist1_cleaned.get(word, 0) + freq_dist2_cleaned.get(word, 0) <= 300000\n",
        "        and not bool(re.search(r'[A-Za-z]', word))  # Exclude English characters\n",
        "        and bool(re.search(r'^[ء-ي]+$', word))  # Include only Arabic characters\n",
        "        and not len(word) == 1  # Exclude single-character words\n",
        "        and not len(word) == 2 # Exclude double-character words\n",
        "        and word not in [\"؟\", \">>\", \"<<\"]  # Exclude specific characters\n",
        "        and not word.startswith(\"ال\")  # Exclude words starting with \"ال\"\n",
        "    )\n",
        "]\n",
        "\n",
        "# Sort the target words by frequency and select the top 100\n",
        "target_words = sorted(\n",
        "    filtered_target_words,\n",
        "    key=lambda word: -freq_dist1_cleaned[word] - freq_dist2_cleaned[word])[:300]\n",
        "\n",
        "# Adding custom words to the target words set\n",
        "custom_words = [\"طائر\", \"شاش\", \"موقع\", \"حائط\", \"سيار\", \"طيار\", \"الله\"]\n",
        "target_words.extend(custom_words)\n",
        "# Save the top_target_words as a pickle file\n",
        "with open(\"target_words.pkl\", \"wb\") as file:\n",
        "    pickle.dump(target_words, file)\n",
        "\n",
        "# Create a DataFrame for target words and their frequencies\n",
        "data = {\"Target Word\": [], \"C1 Frequency\": [], \"C2 Frequency\": []}\n",
        "\n",
        "# Add target words to the DataFrame\n",
        "for word in target_words:\n",
        "    data[\"Target Word\"].append(word)\n",
        "    data[\"C1 Frequency\"].append(freq_dist1_cleaned.get(word, 0))\n",
        "    data[\"C2 Frequency\"].append(freq_dist2_cleaned.get(word, 0))\n",
        "\n",
        "# Create the DataFrame\n",
        "df = pd.DataFrame(data)\n",
        "\n",
        "# Print the DataFrame\n",
        "print(df)"
      ],
      "metadata": {
        "colab": {
          "base_uri": "https://localhost:8080/"
        },
        "id": "Am-bvR1tYhs_",
        "outputId": "6b827b2b-b7c4-4e4e-fb6b-e5e6e6c081f2"
      },
      "execution_count": null,
      "outputs": [
        {
          "output_type": "stream",
          "name": "stdout",
          "text": [
            "    Target Word  C1 Frequency  C2 Frequency\n",
            "0          خالد        217766         82220\n",
            "1           رفع        147955        151737\n",
            "2          يعلم        117406        182184\n",
            "3           قلب        136899        160537\n",
            "4           كفر        108660        187331\n",
            "..          ...           ...           ...\n",
            "302        موقع          9545         22076\n",
            "303        حائط         16470         14535\n",
            "304        سيار         15911         15666\n",
            "305        طيار          1864          2934\n",
            "306        الله       6347873       5609848\n",
            "\n",
            "[307 rows x 3 columns]\n"
          ]
        }
      ]
    },
    {
      "cell_type": "code",
      "source": [
        "# Calculate the total frequency for each target word\n",
        "df[\"Total Frequency\"] = df[\"C1 Frequency\"] + df[\"C2 Frequency\"]\n",
        "\n",
        "# Sort the DataFrame in ascending order based on the \"Total Frequency\" column\n",
        "df_sorted = df.sort_values(by=\"Total Frequency\", ascending=True)\n",
        "\n",
        "# Print the sorted DataFrame\n",
        "print(df_sorted)"
      ],
      "metadata": {
        "colab": {
          "base_uri": "https://localhost:8080/"
        },
        "id": "A567Ps_fvPJh",
        "outputId": "dfe3e144-2819-424e-c4bb-e01a794deb25"
      },
      "execution_count": null,
      "outputs": [
        {
          "output_type": "stream",
          "name": "stdout",
          "text": [
            "    Target Word  C1 Frequency  C2 Frequency  Total Frequency\n",
            "301         شاش          1900          1212             3112\n",
            "305        طيار          1864          2934             4798\n",
            "300        طائر         13341         13640            26981\n",
            "303        حائط         16470         14535            31005\n",
            "304        سيار         15911         15666            31577\n",
            "..          ...           ...           ...              ...\n",
            "3           قلب        136899        160537           297436\n",
            "2          يعلم        117406        182184           299590\n",
            "1           رفع        147955        151737           299692\n",
            "0          خالد        217766         82220           299986\n",
            "306        الله       6347873       5609848         11957721\n",
            "\n",
            "[307 rows x 4 columns]\n"
          ]
        }
      ]
    },
    {
      "cell_type": "code",
      "source": [
        "# loading target words into memory\n",
        "file_path = 'target_words.pkl'\n",
        "\n",
        "# Open the Pickle file and load the data\n",
        "with open(file_path, 'rb') as file:\n",
        "    target_words = pickle.load(file)"
      ],
      "metadata": {
        "id": "0ltygPTJD6iH"
      },
      "execution_count": null,
      "outputs": []
    },
    {
      "cell_type": "code",
      "source": [
        "# getting sentences with target words\n",
        "def write_target_word_occurrences(target_words, corpus_file, output_file, num_occurrences=5000):\n",
        "    with open(corpus_file, 'r') as infile, open(output_file, 'w') as outfile:\n",
        "        for target_word in target_words:\n",
        "            outfile.write(f\"Occurrences for '{target_word}':\\n\")\n",
        "            occurrences_count = 0\n",
        "\n",
        "            # Reset the file pointer to the beginning of the file\n",
        "            infile.seek(0)\n",
        "\n",
        "            for line in infile:\n",
        "                line = line.strip()\n",
        "\n",
        "                if target_word in line:\n",
        "                    outfile.write(line + '\\n')\n",
        "                    occurrences_count += 1\n",
        "\n",
        "                    if occurrences_count == num_occurrences:\n",
        "                        break\n",
        "\n",
        "            outfile.write('\\n')\n",
        "\n",
        "if __name__ == \"__main__\":\n",
        "    num_occurrences = 5000\n",
        "\n",
        "    # Corpus 1\n",
        "    corpus_file1 = \"corpus1.txt\"\n",
        "    output_file1 = \"corpus1_occurrences.txt\"\n",
        "    write_target_word_occurrences(target_words, corpus_file1, output_file1, num_occurrences)\n",
        "\n",
        "    # Corpus 2\n",
        "    corpus_file2 = \"corpus2.txt\"\n",
        "    output_file2 = \"corpus2_occurrences.txt\"\n",
        "    write_target_word_occurrences(target_words, corpus_file2, output_file2, num_occurrences)\n"
      ],
      "metadata": {
        "id": "DeD6LKjiP65F"
      },
      "execution_count": null,
      "outputs": []
    },
    {
      "cell_type": "code",
      "source": [
        "def calculate_average_line_length(file_path):\n",
        "    total_words = 0\n",
        "    total_lines = 0\n",
        "\n",
        "    with open(file_path, 'r') as infile:\n",
        "        for line in infile:\n",
        "            words = line.strip().split()\n",
        "            total_words += len(words)\n",
        "            total_lines += 1\n",
        "\n",
        "    if total_lines == 0:\n",
        "        return 0  # To avoid division by zero if the file is empty\n",
        "\n",
        "    average_length = total_words / total_lines\n",
        "    return average_length\n",
        "\n",
        "if __name__ == \"__main__\":\n",
        "    file_path = \"corpus1_occurrences.txt\"\n",
        "\n",
        "    avg_line_length = calculate_average_line_length(file_path)\n",
        "    print(f\"The average line length in '{file_path}' is: {avg_line_length:.2f} words\")\n"
      ],
      "metadata": {
        "colab": {
          "base_uri": "https://localhost:8080/"
        },
        "id": "a70tDYnKZMqV",
        "outputId": "347fc497-c960-4453-9b90-1e6dfa577442"
      },
      "execution_count": null,
      "outputs": [
        {
          "output_type": "stream",
          "name": "stdout",
          "text": [
            "The average line length in 'corpus1_occurrences.txt' is: 24.75 words\n"
          ]
        }
      ]
    },
    {
      "cell_type": "code",
      "source": [
        "def calculate_average_line_length(file_path):\n",
        "    total_words = 0\n",
        "    total_lines = 0\n",
        "\n",
        "    with open(file_path, 'r') as infile:\n",
        "        for line in infile:\n",
        "            words = line.strip().split()\n",
        "            total_words += len(words)\n",
        "            total_lines += 1\n",
        "\n",
        "    if total_lines == 0:\n",
        "        return 0  # To avoid division by zero if the file is empty\n",
        "\n",
        "    average_length = total_words / total_lines\n",
        "    return average_length\n",
        "\n",
        "if __name__ == \"__main__\":\n",
        "    file_path = \"corpus2_occurrences.txt\"\n",
        "\n",
        "    avg_line_length = calculate_average_line_length(file_path)\n",
        "    print(f\"The average line length in '{file_path}' is: {avg_line_length:.2f} words\")\n"
      ],
      "metadata": {
        "colab": {
          "base_uri": "https://localhost:8080/"
        },
        "id": "GUiUPEOkZNR_",
        "outputId": "6e628df8-1c33-4f76-cab1-7450656b5e8e"
      },
      "execution_count": null,
      "outputs": [
        {
          "output_type": "stream",
          "name": "stdout",
          "text": [
            "The average line length in 'corpus2_occurrences.txt' is: 25.88 words\n"
          ]
        }
      ]
    },
    {
      "cell_type": "code",
      "source": [
        "import matplotlib.pyplot as plt\n",
        "\n",
        "def get_line_lengths(file_path):\n",
        "    line_lengths = []\n",
        "\n",
        "    with open(file_path, 'r') as infile:\n",
        "        for line in infile:\n",
        "            words = line.strip().split()\n",
        "            line_length = len(words)\n",
        "            line_lengths.append(line_length)\n",
        "\n",
        "    return line_lengths\n",
        "\n",
        "if __name__ == \"__main__\":\n",
        "    file_path = \"corpus1_occurrences.txt\"\n",
        "\n",
        "    line_lengths = get_line_lengths(file_path)\n",
        "\n",
        "    # Plot the histogram\n",
        "    plt.hist(line_lengths, bins=100, edgecolor='black')\n",
        "    plt.xlabel('Line Length (Number of Words)')\n",
        "    plt.ylabel('Frequency')\n",
        "    plt.title('Histogram of Line Lengths in corpus1_occurrences.txt')\n",
        "    plt.xlim(0, 400)\n",
        "    plt.show()\n"
      ],
      "metadata": {
        "colab": {
          "base_uri": "https://localhost:8080/",
          "height": 472
        },
        "id": "fwNBCRgl5C5s",
        "outputId": "3f61b193-670b-45e7-84e0-70e989add04d"
      },
      "execution_count": null,
      "outputs": [
        {
          "output_type": "display_data",
          "data": {
            "text/plain": [
              "<Figure size 640x480 with 1 Axes>"
            ],
            "image/png": "[encoded data removed]"
          },
          "metadata": {}
        }
      ]
    }
  ]
}