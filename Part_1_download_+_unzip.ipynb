{
  "nbformat": 4,
  "nbformat_minor": 0,
  "metadata": {
    "colab": {
      "provenance": []
    },
    "kernelspec": {
      "name": "python3",
      "display_name": "Python 3"
    },
    "language_info": {
      "name": "python"
    }
  },
  "cells": [
    {
      "cell_type": "code",
      "execution_count": null,
      "metadata": {
        "id": "I1R7Az21YEaD"
      },
      "outputs": [],
      "source": [
        "import requests\n",
        "import zipfile\n",
        "import io\n",
        "import os\n",
        "import shutil\n",
        "import pandas as pd\n",
        "import re"
      ]
    },
    {
      "cell_type": "code",
      "source": [
        "# mounting the Google Drive\n",
        "from google.colab import drive\n",
        "drive.mount('/content/drive')"
      ],
      "metadata": {
        "colab": {
          "base_uri": "https://localhost:8080/"
        },
        "id": "54MvLJ_sYd3-",
        "outputId": "67501388-8f3b-4a33-f850-1408cfedeea9"
      },
      "execution_count": null,
      "outputs": [
        {
          "output_type": "stream",
          "name": "stdout",
          "text": [
            "Mounted at /content/drive\n"
          ]
        }
      ]
    },
    {
      "cell_type": "code",
      "source": [
        "# defining the paths to save the zip files for the data + metadata\n",
        "\n",
        "#OPENITI CORPUS\n",
        "data_path = \"/content/drive/My Drive/OpenITI/data.zip\"\n",
        "metadata_path = \"/content/drive/My Drive/OpenITI/metadata.zip\"\n",
        "\n"
      ],
      "metadata": {
        "id": "D88K_847YlTr"
      },
      "execution_count": null,
      "outputs": []
    },
    {
      "cell_type": "code",
      "source": [
        "# URLs of the zip files from the Zenodo website (corresponding to 2023 version) - 10.5281/zenodo.7687795\n",
        "#OPENITI CORPUS\n",
        "data_url = \"https://zenodo.org/record/7687795/files/data.zip?download=1\"\n",
        "metadata_url = \"https://zenodo.org/record/7687795/files/metadata.zip?download=1\"\n"
      ],
      "metadata": {
        "id": "vW04LjGSYsS_"
      },
      "execution_count": null,
      "outputs": []
    },
    {
      "cell_type": "code",
      "source": [
        "# Define the path to the OpenITI folder in Google Drive\n",
        "openiti_path = \"/content/drive/My Drive/OpenITI\"\n",
        "if not os.path.exists(openiti_path):\n",
        "    os.makedirs(openiti_path)\n",
        "\n"
      ],
      "metadata": {
        "id": "5J5MU32KZq5u"
      },
      "execution_count": null,
      "outputs": []
    },
    {
      "cell_type": "code",
      "source": [
        "# Download the data zip file and save it to Google Drive (OPENITI)\n",
        "response = requests.get(data_url, stream=True)\n",
        "with open(data_path, 'wb') as f:\n",
        "    for chunk in response.iter_content(chunk_size=8192): # using chunks to save on RAM\n",
        "        f.write(chunk)\n",
        "\n"
      ],
      "metadata": {
        "id": "uFmiVmKSZNFU"
      },
      "execution_count": null,
      "outputs": []
    },
    {
      "cell_type": "code",
      "source": [
        "# Download the metadata zip file and save it to Google Drive (OPENITI)\n",
        "response = requests.get(metadata_url, stream=True)\n",
        "with open(metadata_path, 'wb') as f:\n",
        "    for chunk in response.iter_content(chunk_size=8192):\n",
        "        f.write(chunk)\n"
      ],
      "metadata": {
        "id": "UE3D_A3FaOXm"
      },
      "execution_count": null,
      "outputs": []
    },
    {
      "cell_type": "code",
      "source": [
        "# Extract the metadata file\n",
        "# Define the paths for the metadata zip file and extracted directory\n",
        "metadata_zip_path = \"/content/drive/My Drive/OpenITI/metadata.zip\"\n",
        "metadata_dir_path = \"/content/drive/My Drive/OpenITI\"\n",
        "\n",
        "# Extract the metadata zip file\n",
        "with zipfile.ZipFile(metadata_zip_path, 'r') as zip_ref:\n",
        "    zip_ref.extractall(metadata_dir_path)\n"
      ],
      "metadata": {
        "id": "jU4G6loNehxM"
      },
      "execution_count": null,
      "outputs": []
    },
    {
      "cell_type": "code",
      "source": [
        "# Extract the data file\n",
        "# Define the paths for the data zip file and extracted directory\n",
        "data_zip_path = \"/content/drive/My Drive/OpenITI/data.zip\"\n",
        "data_dir_path = \"/content/drive/My Drive/OpenITI\"\n",
        "\n",
        "# Extract the metadata zip file\n",
        "with zipfile.ZipFile(data_zip_path, 'r') as zip_ref:\n",
        "    zip_ref.extractall(data_dir_path)\n"
      ],
      "metadata": {
        "id": "xUE9eVKVeKu8"
      },
      "execution_count": null,
      "outputs": []
    },
    {
      "cell_type": "code",
      "source": [
        "# Dividing the corpus into two time periods T1 and T2\n",
        "\n",
        "data_dir_path = \"/content/drive/My Drive/OpenITI/data\"\n",
        "t1_start = 575  # Start year for time period 1\n",
        "t1_end = 900    # End year for time period 1\n",
        "t2_start = 1100  # Start year for time period 2\n",
        "t2_end = 1450    # End year for time period 2\n",
        "\n",
        "# Create the T1 directory\n",
        "t1_dir_path = os.path.join(data_dir_path, \"T1\")\n",
        "os.makedirs(t1_dir_path, exist_ok=True)\n",
        "\n",
        "# Create the T2 directory\n",
        "t2_dir_path = os.path.join(data_dir_path, \"T2\")\n",
        "os.makedirs(t2_dir_path, exist_ok=True)\n",
        "\n",
        "# List all files and directories in the data directory\n",
        "files = os.listdir(data_dir_path)\n",
        "\n",
        "# Move the directories to their respective time period directories\n",
        "for file in files:\n",
        "    file_path = os.path.join(data_dir_path, file)\n",
        "    if os.path.isdir(file_path) and file not in [\"T1\", \"T2\"]:\n",
        "        year_str = file[:4]\n",
        "        try:\n",
        "            year = int(year_str)\n",
        "            if t1_start <= year <= t1_end or t1_start <= int(year_str.lstrip('0')) <= t1_end:\n",
        "                shutil.move(file_path, t1_dir_path)\n",
        "            elif t2_start <= year <= t2_end or t2_start <= int(year_str.lstrip('0')) <= t2_end:\n",
        "                shutil.move(file_path, t2_dir_path)\n",
        "        except ValueError:\n",
        "            continue\n"
      ],
      "metadata": {
        "id": "KhunOGaBhNJI"
      },
      "execution_count": null,
      "outputs": []
    },
    {
      "cell_type": "code",
      "source": [
        "import os\n",
        "\n",
        "def count_files(directory):\n",
        "    \"\"\"\n",
        "    Count the number of files in a directory (recursively).\n",
        "    \"\"\"\n",
        "    count = 0\n",
        "    for root, dirs, files in os.walk(directory):\n",
        "        count += len(files)\n",
        "    return count\n",
        "\n",
        "t1_dir_path = \"/content/drive/My Drive/OpenITI/T1\"\n",
        "t2_dir_path = \"/content/drive/My Drive/OpenITI/T2\"\n",
        "\n",
        "def extract_statistics(directory):\n",
        "    num_files = 0\n",
        "    num_words = 0\n",
        "    num_books = 0\n",
        "    num_authors = 0\n",
        "\n",
        "    for author_dir in os.listdir(directory):\n",
        "        author_path = os.path.join(directory, author_dir)\n",
        "        if os.path.isdir(author_path):\n",
        "            num_authors += 1\n",
        "\n",
        "            for book_dir in os.listdir(author_path):\n",
        "                book_path = os.path.join(author_path, book_dir)\n",
        "                if os.path.isdir(book_path):\n",
        "                    num_books += 1\n",
        "\n",
        "                    for root, dirs, files in os.walk(book_path):\n",
        "                        for file in files:\n",
        "                            if file.endswith(\"ara1\"):\n",
        "                                file_path = os.path.join(root, file)\n",
        "                                with open(file_path, 'r', encoding='utf-8') as f:\n",
        "                                    num_words += len(f.read().split())\n",
        "                                    num_files += 1\n",
        "\n",
        "    return num_files, num_words, num_books, num_authors\n",
        "\n",
        "# Extract statistics for T1\n",
        "t1_files, t1_words, t1_books, t1_authors = extract_statistics(t1_dir_path)\n",
        "\n",
        "# Extract statistics for T2\n",
        "t2_files, t2_words, t2_books, t2_authors = extract_statistics(t2_dir_path)\n",
        "\n",
        "# Print the statistics\n",
        "print(\"Time Period 1 (T1) Statistics:\")\n",
        "print(\"Files:\", t1_files)\n",
        "print(\"Words:\", t1_words)\n",
        "print(\"Books:\", t1_books)\n",
        "print(\"Authors:\", t1_authors)\n",
        "print()\n",
        "print(\"Time Period 2 (T2) Statistics:\")\n",
        "print(\"Files:\", t2_files)\n",
        "print(\"Words:\", t2_words)\n",
        "print(\"Books:\", t2_books)\n",
        "print(\"Authors:\", t2_authors)\n"
      ],
      "metadata": {
        "colab": {
          "base_uri": "https://localhost:8080/"
        },
        "id": "koNKkMvC0xhv",
        "outputId": "9f097f5b-df18-4651-f931-72957dbb43d0"
      },
      "execution_count": null,
      "outputs": [
        {
          "output_type": "stream",
          "name": "stdout",
          "text": [
            "Time Period 1 (T1) Statistics:\n",
            "Files: 3103\n",
            "Words: 777403570\n",
            "Books: 2183\n",
            "Authors: 801\n",
            "\n",
            "Time Period 2 (T2) Statistics:\n",
            "Files: 1454\n",
            "Words: 517059619\n",
            "Books: 1183\n",
            "Authors: 647\n"
          ]
        }
      ]
    }
  ]
}